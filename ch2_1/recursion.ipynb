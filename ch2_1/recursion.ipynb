{
 "cells": [
  {
   "cell_type": "markdown",
   "metadata": {},
   "source": [
    "# 2.3 再起プログラミング\n",
    "ある関数から自分自身を呼び出すことを，再帰呼び出しという。  \n",
    "文字列を再帰的に書き換えて成長させるプログラムを書いてみよう。\n",
    "\n",
    "f,g,hの文字列のうち，\n",
    " \n",
    "- f -> fg\n",
    "- g -> gh\n",
    "- h -> gf\n",
    "\n",
    "となるようにする。"
   ]
  },
  {
   "cell_type": "code",
   "execution_count": 13,
   "metadata": {},
   "outputs": [],
   "source": [
    "def grow(s, r):  # 文字列sと繰り返し回数rを入力\n",
    "    ss = ''  # 出力する文字列を初期化\n",
    "    for letter in s: #文字列を一文字ずつ取り出してループする\n",
    "        if letter == 'f':  # ' f'  を ' fg'  に書き換え\n",
    "            ss = ss + 'fg'\n",
    "        elif letter == 'g':  # ' g'  を ' gh'  に書き換え\n",
    "            ss = ss + 'gh'\n",
    "        elif letter =='h':\n",
    "            ss = ss + 'gf' \n",
    "        else:\n",
    "            ss += letter\n",
    "    print(ss)\n",
    "    r -= 1  # 残りの繰返し回数を1減らす\n",
    "    if r > 0:  # 繰返し回数が0でない時，自分自身を呼び出す\n",
    "        ss = grow(ss, r)\n",
    "    return ss"
   ]
  },
  {
   "cell_type": "code",
   "execution_count": 18,
   "metadata": {},
   "outputs": [
    {
     "name": "stdout",
     "output_type": "stream",
     "text": [
      "fgXghXgf\n",
      "fgghXghgfXghfg\n",
      "fgghghgfXghgfghfgXghgffggh\n",
      "fgghghgfghgfghfgXghgfghfgghgffgghXghgfghfgfgghghgf\n"
     ]
    },
    {
     "data": {
      "text/plain": [
       "'fgghghgfghgfghfgXghgfghfgghgffgghXghgfghfgfgghghgf'"
      ]
     },
     "execution_count": 18,
     "metadata": {},
     "output_type": "execute_result"
    }
   ],
   "source": [
    "grow('fXgXh', 4)  # growを2回実行"
   ]
  },
  {
   "cell_type": "markdown",
   "metadata": {},
   "source": [
    "# 二次元図形の入れ子\n",
    "文字列は1次元。  \n",
    "次にturtleを用いて，2次元図形が入れ子になったものを描こう。  \n",
    "\n",
    "## turtle graphic\n",
    "https://docs.python.org/ja/3.6/library/turtle.html?highlight=turtle#module-turtle  \n",
    "https://www.101computing.net/2d-shapes-using-python-turtle/\n",
    "\n",
    "## 建築の例\n",
    "例えば，伊東豊雄＋セシル・バルモンド ＜サーペンタインギャラリーパビリオン＞（2002）。  \n",
    "http://www.toyo-ito.co.jp/WWW/Project_Descript/2000-/2000-p_08/2000-p_08_j.html"
   ]
  },
  {
   "cell_type": "code",
   "execution_count": 1,
   "metadata": {},
   "outputs": [],
   "source": [
    "from turtle import *  # 描画環境 turtle をインポート"
   ]
  },
  {
   "cell_type": "code",
   "execution_count": 2,
   "metadata": {},
   "outputs": [],
   "source": [
    "def connect_points(points):\n",
    "    up()\n",
    "    setpos(points[-1][0], points[-1][1])\n",
    "    down()\n",
    "    for xy in points:\n",
    "        setpos(xy[0], xy[1])"
   ]
  },
  {
   "cell_type": "code",
   "execution_count": 3,
   "metadata": {},
   "outputs": [],
   "source": [
    "def n_polygon(n=4, x0=0, y0=0, size=100):\n",
    "    angle = 360 / n\n",
    "    up()\n",
    "    setpos(x0, y0)\n",
    "    points = []\n",
    "    for i in range(n):\n",
    "        forward(size)\n",
    "        left(angle)\n",
    "        points.append(pos())\n",
    "    return points"
   ]
  },
  {
   "cell_type": "code",
   "execution_count": 4,
   "metadata": {},
   "outputs": [],
   "source": [
    "def deviding(p0, p1, r):\n",
    "    return p0 * (1 - r) + p1 * r"
   ]
  },
  {
   "cell_type": "code",
   "execution_count": 5,
   "metadata": {},
   "outputs": [],
   "source": [
    "# deviding_point(点A,点B,内分比)\n",
    "def deviding_point(p0, p1, ratio):\n",
    "    [x0, y0] = p0\n",
    "    [x1, y1] = p1\n",
    "    xr = deviding(x0, x1, ratio)\n",
    "    yr = deviding(y0, y1, ratio)\n",
    "    return [xr, yr]"
   ]
  },
  {
   "cell_type": "code",
   "execution_count": 6,
   "metadata": {},
   "outputs": [],
   "source": [
    "# deviding_points(四角形の４頂点，内分比)\n",
    "def deviding_points(points, ratio):\n",
    "    new_points = []\n",
    "    points2 = points[:] #コピーを作成\n",
    "    points2.append(points2[0])\n",
    "    points2.pop(0)\n",
    "    for p0, p1 in zip(points, points2):\n",
    "        pr0 = deviding_point(p0, p1, ratio)\n",
    "        new_points.append(pr0)\n",
    "    return new_points"
   ]
  },
  {
   "cell_type": "code",
   "execution_count": 7,
   "metadata": {},
   "outputs": [],
   "source": [
    "def rose_window_recursion(points, ratio, depth):\n",
    "    connect_points(points)\n",
    "    new_points = deviding_points(points, ratio)\n",
    "    if depth == 0:\n",
    "        up()\n",
    "        setpos(-200, -200)\n",
    "    else:\n",
    "        rose_window_recursion(new_points, ratio, depth - 1)"
   ]
  },
  {
   "cell_type": "code",
   "execution_count": 10,
   "metadata": {},
   "outputs": [],
   "source": [
    "hideturtle()\n",
    "points = n_polygon(n=5, size=200)\n",
    "rose_window_recursion(points, 0.1, 40)\n",
    "done()"
   ]
  },
  {
   "cell_type": "code",
   "execution_count": null,
   "metadata": {},
   "outputs": [],
   "source": []
  },
  {
   "cell_type": "code",
   "execution_count": null,
   "metadata": {},
   "outputs": [],
   "source": []
  }
 ],
 "metadata": {
  "kernelspec": {
   "display_name": "Python [conda env:anaconda3-4.1.1]",
   "language": "python",
   "name": "conda-env-anaconda3-4.1.1-py"
  },
  "language_info": {
   "codemirror_mode": {
    "name": "ipython",
    "version": 3
   },
   "file_extension": ".py",
   "mimetype": "text/x-python",
   "name": "python",
   "nbconvert_exporter": "python",
   "pygments_lexer": "ipython3",
   "version": "3.6.5"
  }
 },
 "nbformat": 4,
 "nbformat_minor": 2
}
