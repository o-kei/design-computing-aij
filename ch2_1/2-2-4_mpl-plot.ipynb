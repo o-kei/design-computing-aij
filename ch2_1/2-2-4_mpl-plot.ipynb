{
 "cells": [
  {
   "cell_type": "markdown",
   "metadata": {},
   "source": [
    "# ライブラリの`import`を用いる\n",
    "## matplotlibを使ってグラフをプロット"
   ]
  },
  {
   "cell_type": "markdown",
   "metadata": {},
   "source": [
    "まずはデータを読み込み，それをX, Yのデータにして返す関数を作りましょう。"
   ]
  },
  {
   "cell_type": "code",
   "execution_count": 11,
   "metadata": {},
   "outputs": [],
   "source": [
    "import csv\n",
    "def read_data(file_name):\n",
    "    reader = csv.reader(open(file_name, 'r'))\n",
    "    X, Y = [], []\n",
    "    for row in reader:\n",
    "        X.append(row[0]), Y.append(row[1])\n",
    "    return X, Y  # データを返す"
   ]
  },
  {
   "cell_type": "markdown",
   "metadata": {},
   "source": [
    "matplotlibを用いてデータを散布図にプロットする関数を作成します。"
   ]
  },
  {
   "cell_type": "code",
   "execution_count": 12,
   "metadata": {},
   "outputs": [],
   "source": [
    "import matplotlib.pyplot as plt\n",
    "% matplotlib inline\n",
    "#  % matplotlib inlineはjupyter notebookでmatplotlibを行内に表示するためのおまじない"
   ]
  },
  {
   "cell_type": "code",
   "execution_count": 13,
   "metadata": {},
   "outputs": [],
   "source": [
    "def draw_graph(X, Y, xmin, xmax, ymin, ymax, Lc, Ls, Lw, title, xlabel, ylabel):\n",
    "    plt.xlim(xmin, xmax)  # Xの範囲の指定\n",
    "    plt.ylim(ymin, ymax)  # Yの範囲の指定\n",
    "    plt.title(title)  # グラフタイトル\n",
    "    plt.xlabel(xlabel)  # X軸タイトル\n",
    "    plt.ylabel(ylabel)  # Y軸タイトル\n",
    "    plt.plot(X, Y, color=Lc, linestyle=Ls, linewidth=Lw)  # グラフをメモリ上に作成\n",
    "    plt.show()  # グラフの描画"
   ]
  },
  {
   "cell_type": "code",
   "execution_count": null,
   "metadata": {},
   "outputs": [],
   "source": []
  },
  {
   "cell_type": "code",
   "execution_count": null,
   "metadata": {},
   "outputs": [],
   "source": [
    "file_name = 'data3.csv'  # ファイル名\n",
    "x, y = module1.read_data(file_name)  # 関数read_dataによりデータを取得\n",
    "xmin, xmax, ymin, ymax = 0, 10, 0, 10  # 描画範囲\n",
    "lc, ls, lw = 'black', '-', 2.0  # 描画オプション\n",
    "title, xl, yl = 'LineGraph', 'X-Axis', 'Y-Axis'  # タイトル，ラベル\n",
    "module1.draw_graph(x, y, xmin, xmax, ymin, ymax, lc, ls, lw, title, xl, yl) \n",
    "# 関数draw_graphによりグラフ描画"
   ]
  }
 ],
 "metadata": {
  "kernelspec": {
   "display_name": "Python [conda env:anaconda3-4.1.1]",
   "language": "python",
   "name": "conda-env-anaconda3-4.1.1-py"
  },
  "language_info": {
   "codemirror_mode": {
    "name": "ipython",
    "version": 3
   },
   "file_extension": ".py",
   "mimetype": "text/x-python",
   "name": "python",
   "nbconvert_exporter": "python",
   "pygments_lexer": "ipython3",
   "version": "3.6.5"
  }
 },
 "nbformat": 4,
 "nbformat_minor": 2
}
