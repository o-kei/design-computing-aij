{
 "cells": [
  {
   "cell_type": "code",
   "execution_count": 1,
   "metadata": {},
   "outputs": [],
   "source": [
    "import numpy as np  # モジュールnumpyを読み込み\n",
    "import matplotlib.pyplot as plt  # モジュールmatplotlibのpylab関数を読み込み\n",
    "%matplotlib inline"
   ]
  },
  {
   "cell_type": "code",
   "execution_count": 2,
   "metadata": {},
   "outputs": [],
   "source": [
    "def bernstein(t, n, i):  # bernstein基底関数の定義\n",
    "    cn, ci, cni = 1.0, 1.0, 1.0\n",
    "    for k in range(2, n, 1):\n",
    "        cn = cn * k\n",
    "    for k in range(1, i, 1):\n",
    "        if i == 1:\n",
    "            break\n",
    "        ci = ci * k\n",
    "    for k in range(1, n - i + 1, 1):\n",
    "        if n == i:\n",
    "            break\n",
    "        cni = cni * k\n",
    "    j = t**(i - 1) * (1 - t)**(n - i) * cn / (ci * cni)\n",
    "    return j"
   ]
  },
  {
   "cell_type": "code",
   "execution_count": 3,
   "metadata": {},
   "outputs": [],
   "source": [
    "def bezierplot(t, cp):  # bezier曲線の定義\n",
    "    n = len(cp)\n",
    "    r = np.zeros([len(t), 2])\n",
    "    for k in range(len(t)):\n",
    "        sum1, sum2 = 0.0, 0.0\n",
    "        for i in range(1, n + 1, 1):\n",
    "            bt = bernstein(t[k], n, i)\n",
    "            sum1 += cp[i - 1, 0] * bt\n",
    "            sum2 += cp[i - 1, 1] * bt\n",
    "        r[k, :] = [sum1, sum2]\n",
    "    return np.array(r)"
   ]
  },
  {
   "cell_type": "code",
   "execution_count": 5,
   "metadata": {},
   "outputs": [
    {
     "data": {
      "image/png": "[encoded data removed]",
      "text/plain": [
       "<Figure size 432x288 with 1 Axes>"
      ]
     },
     "metadata": {},
     "output_type": "display_data"
    }
   ],
   "source": [
    "cp = np.array([[0, -2], [1, -3], [2, -2], [3, 2], [4, 2], [5, 0]])  # 制御点座標\n",
    "t = np.arange(0, 1 + 0.01, 0.01)  # パラメータ生成\n",
    "p = bezierplot(t, cp)  # bezier曲線生成\n",
    "plt.figure()\n",
    "plt.plot(p[:, 0], p[:, 1])\n",
    "plt.plot(cp[:, 0], cp[:, 1], ls=':', marker='o')\n",
    "plt.show()"
   ]
  },
  {
   "cell_type": "code",
   "execution_count": null,
   "metadata": {},
   "outputs": [],
   "source": []
  }
 ],
 "metadata": {
  "kernelspec": {
   "display_name": "Python [conda env:anaconda3-4.1.1]",
   "language": "python",
   "name": "conda-env-anaconda3-4.1.1-py"
  },
  "language_info": {
   "codemirror_mode": {
    "name": "ipython",
    "version": 3
   },
   "file_extension": ".py",
   "mimetype": "text/x-python",
   "name": "python",
   "nbconvert_exporter": "python",
   "pygments_lexer": "ipython3",
   "version": "3.6.5"
  }
 },
 "nbformat": 4,
 "nbformat_minor": 2
}
