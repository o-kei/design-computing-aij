{
 "cells": [
  {
   "cell_type": "markdown",
   "metadata": {},
   "source": [
    "# コッホ曲線\n",
    "コッホ曲線を描いてみよう。\n",
    "\n",
    "###参考\n",
    "http://obelisk.hatenablog.com/entry/2017/06/08/125856  \n",
    "https://ja.wikipedia.org/wiki/%E3%82%B3%E3%83%83%E3%83%9B%E6%9B%B2%E7%B7%9A"
   ]
  },
  {
   "cell_type": "code",
   "execution_count": 1,
   "metadata": {},
   "outputs": [],
   "source": [
    "import turtle as tl "
   ]
  },
  {
   "cell_type": "markdown",
   "metadata": {},
   "source": [
    "## 再帰的に描画する関数を描いてみよう。  \n",
    "- 左から右に線を引きたい。\n",
    "- その時に，\n",
    "    - もしdepthが0より大きければ，\n",
    "        - 3分割して真ん中をとがらせた形態にする。\n",
    "        - その時の3分割の線それぞれにもこのルールを適用する。その時にdepthを1減らす。\n",
    "    - もしdepthが0より大きくない時，\n",
    "        - 分割せずに単に線を引く。\n",
    "        \n",
    "ヒント\n",
    "\n",
    "- まず3分割したとがった線（4本の直線）を再帰的でなく描く関数`draw`を書く\n",
    "- その関数の中の直線を描く部分を`draw`で置き換えて再帰的にする。"
   ]
  },
  {
   "cell_type": "code",
   "execution_count": 2,
   "metadata": {},
   "outputs": [],
   "source": [
    "def draw(length, depth):\n",
    "    if depth > 0:\n",
    "        draw(length / 3, depth - 1)\n",
    "        tl.left(60)\n",
    "        draw(length / 3, depth - 1)\n",
    "        tl.right(120)\n",
    "        draw(length / 3, depth - 1)\n",
    "        tl.left(60)\n",
    "        draw(length / 3, depth - 1)\n",
    "    else:\n",
    "        tl.forward(length)"
   ]
  },
  {
   "cell_type": "markdown",
   "metadata": {},
   "source": [
    "では`draw`関数を用いて描いてみよう。\n",
    "引数はlength, depth。"
   ]
  },
  {
   "cell_type": "code",
   "execution_count": 9,
   "metadata": {},
   "outputs": [],
   "source": [
    "# tl.tracer(0,0) # no animation\n",
    "tl.up()\n",
    "tl.setx(-250)\n",
    "tl.down()\n",
    "# tl.speed(0)  # 0:fastest, 1:slow to 10:fast\n",
    "draw(500, 2)\n",
    "tl.done()"
   ]
  }
 ],
 "metadata": {
  "kernelspec": {
   "display_name": "Python [conda env:anaconda3-4.1.1]",
   "language": "python",
   "name": "conda-env-anaconda3-4.1.1-py"
  },
  "language_info": {
   "codemirror_mode": {
    "name": "ipython",
    "version": 3
   },
   "file_extension": ".py",
   "mimetype": "text/x-python",
   "name": "python",
   "nbconvert_exporter": "python",
   "pygments_lexer": "ipython3",
   "version": "3.6.5"
  }
 },
 "nbformat": 4,
 "nbformat_minor": 2
}
