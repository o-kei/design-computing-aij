{
 "cells": [
  {
   "cell_type": "markdown",
   "metadata": {},
   "source": [
    "# 3.1 Shape Grammer\n",
    "\n",
    "http://www.shapegrammar.org/  \n"
   ]
  },
  {
   "cell_type": "code",
   "execution_count": 27,
   "metadata": {},
   "outputs": [],
   "source": [
    "import turtle as tl"
   ]
  },
  {
   "cell_type": "markdown",
   "metadata": {},
   "source": [
    "大小のL字を描きます"
   ]
  },
  {
   "cell_type": "code",
   "execution_count": 28,
   "metadata": {},
   "outputs": [],
   "source": [
    "def urform(i, sign, scale=1.0):\n",
    "    tl.pensize(penwidth / i)\n",
    "    tl.pendown()\n",
    "    tl.forward(900.0 * scale / (3 ** i))\n",
    "    tl.left(90 * sign)\n",
    "    tl.forward(900.0 * scale / (3 ** i))\n",
    "    tl.penup()\n",
    "    tl.left(90 * sign)\n",
    "    tl.forward(900.0 * scale / (3 ** i))\n",
    "    tl.left(90 * sign)\n",
    "    tl.forward(180.0 * scale / (3 ** i))\n",
    "    tl.left(90 * sign)\n",
    "    tl.pendown()\n",
    "    tl.forward(180.0 * scale / (3 ** i))\n",
    "    tl.left(90 * sign)\n",
    "    tl.forward(180.0 * scale / (3 ** i))\n",
    "    tl.penup()"
   ]
  },
  {
   "cell_type": "markdown",
   "metadata": {},
   "source": [
    "## ルール1\n",
    "マーカーを1/3にして反転するルール"
   ]
  },
  {
   "cell_type": "code",
   "execution_count": 29,
   "metadata": {},
   "outputs": [],
   "source": [
    "def rule1(i, sign, scale=1.0):\n",
    "    tl.pensize(penwidth / i)\n",
    "    start = tl.position()\n",
    "    urform(i, sign)\n",
    "    stop = tl.position()\n",
    "    if i < level:\n",
    "        tl.goto(start)\n",
    "        tl.forward(480.0 * scale / (3 ** i))\n",
    "        tl.right(90 * sign)\n",
    "        rule2(i + 1, -sign)\n",
    "        tl.goto(stop)\n",
    "    else:\n",
    "        rule3()"
   ]
  },
  {
   "cell_type": "markdown",
   "metadata": {},
   "source": [
    "# ルール2\n",
    "L型の基本形態を7個の小さな基本形態の組み合わせに変形するルール"
   ]
  },
  {
   "cell_type": "code",
   "execution_count": 30,
   "metadata": {},
   "outputs": [],
   "source": [
    "def rule2(i, sign, scale=1.0):\n",
    "    tl.pensize(penwidth / i)\n",
    "    rule1(i, sign)\n",
    "    rule1(i, -sign)\n",
    "    tl.left(90 * sign)\n",
    "    tl.forward(720.0 * scale / (3 ** i))\n",
    "    tl.right(90 * sign)\n",
    "    rule1(i, -sign)\n",
    "    rule1(i, sign)\n",
    "    rule1(i, -sign)\n",
    "    tl.left(90 * sign)\n",
    "    tl.forward(720.0 * scale / (3 ** i))\n",
    "    tl.right(90 * sign)\n",
    "    rule1(i, -sign)\n",
    "    rule1(i, sign)"
   ]
  },
  {
   "cell_type": "markdown",
   "metadata": {},
   "source": [
    "## ルール3\n",
    "マーカーを削除するルール"
   ]
  },
  {
   "cell_type": "code",
   "execution_count": 31,
   "metadata": {},
   "outputs": [],
   "source": [
    "def rule3():\n",
    "    return"
   ]
  },
  {
   "cell_type": "markdown",
   "metadata": {},
   "source": [
    "## 初期形態\n",
    "Initial  \n",
    "Lと反転Lを組み合わせた形。"
   ]
  },
  {
   "cell_type": "code",
   "execution_count": 36,
   "metadata": {},
   "outputs": [],
   "source": [
    "def I(scale=1.0): #I は大文字i\n",
    "    tl.pensize(penwidth*2)\n",
    "    tl.speed('fastest')\n",
    "    tl.penup()\n",
    "    tl.goto(60.0 * scale, 180.0 * scale)\n",
    "    tl.pendown()\n",
    "    tl.forward(240.0 * scale)\n",
    "    tl.right(90)\n",
    "    rule1(1, -1)\n",
    "    rule1(1, 1)\n",
    "    tl.right(90)\n",
    "    tl.pensize(penwidth*2)\n",
    "    tl.pendown()\n",
    "    tl.forward(240.0 * scale)\n",
    "    tl.hideturtle()\n",
    "    tl.done()"
   ]
  },
  {
   "cell_type": "code",
   "execution_count": 37,
   "metadata": {},
   "outputs": [],
   "source": [
    "# tl.tracer(0, 0)  # onにすると一瞬で描画する\n",
    "level = 3\n",
    "penwidth = 10\n",
    "I()"
   ]
  }
 ],
 "metadata": {
  "kernelspec": {
   "display_name": "Python [conda env:anaconda3-4.1.1]",
   "language": "python",
   "name": "conda-env-anaconda3-4.1.1-py"
  },
  "language_info": {
   "codemirror_mode": {
    "name": "ipython",
    "version": 3
   },
   "file_extension": ".py",
   "mimetype": "text/x-python",
   "name": "python",
   "nbconvert_exporter": "python",
   "pygments_lexer": "ipython3",
   "version": "3.6.5"
  }
 },
 "nbformat": 4,
 "nbformat_minor": 2
}
